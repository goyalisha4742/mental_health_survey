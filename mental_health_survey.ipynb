{
  "nbformat": 4,
  "nbformat_minor": 0,
  "metadata": {
    "colab": {
      "name": "BAIT 509.ipynb",
      "provenance": [],
      "collapsed_sections": []
    },
    "kernelspec": {
      "name": "python3",
      "display_name": "Python 3"
    },
    "language_info": {
      "name": "python"
    }
  },
  "cells": [
    {
      "cell_type": "markdown",
      "source": [
        "# BAIT 509 Group Project : Mental Health Survey In Tech Companies"
      ],
      "metadata": {
        "id": "gbA6W7Ka4-BO"
      }
    },
    {
      "cell_type": "code",
      "source": [
        "# Import Packages\n",
        "\n",
        "# For pre-processing\n",
        "import pandas as pd\n",
        "from sklearn.pipeline import Pipeline\n",
        "from sklearn.impute import SimpleImputer\n",
        "from sklearn.preprocessing import OneHotEncoder\n",
        "from sklearn.compose import ColumnTransformer\n",
        "from sklearn.model_selection import train_test_split\n",
        "\n",
        "# For building models\n",
        "from sklearn.dummy import DummyClassifier\n",
        "from sklearn.tree import DecisionTreeClassifier\n",
        "from sklearn.model_selection import cross_validate\n",
        "from sklearn.svm import SVC\n",
        "from sklearn.model_selection import GridSearchCV\n",
        "from sklearn.model_selection import RandomizedSearchCV\n",
        "from sklearn.neighbors import KNeighborsClassifier\n",
        "\n",
        "#For accessing models \n",
        "from sklearn.metrics import classification_report\n",
        "from sklearn.metrics import confusion_matrix\n",
        "from sklearn.metrics import ConfusionMatrixDisplay\n",
        "import matplotlib.pyplot as plt"
      ],
      "metadata": {
        "id": "EtZi2kdWXreo"
      },
      "execution_count": null,
      "outputs": []
    },
    {
      "cell_type": "markdown",
      "source": [
        "# Pre-processing\n"
      ],
      "metadata": {
        "id": "TdRL6aAmDjcE"
      }
    },
    {
      "cell_type": "code",
      "source": [
        "# Reading the dataset\n",
        "df = pd.read_csv('survey.csv')\n",
        "df.head()"
      ],
      "metadata": {
        "id": "d5XUFa4MDwfn",
        "colab": {
          "base_uri": "https://localhost:8080/",
          "height": 357
        },
        "outputId": "819ef86b-21d1-4573-ae1e-283102c99293"
      },
      "execution_count": null,
      "outputs": [
        {
          "output_type": "execute_result",
          "data": {
            "text/html": [
              "\n",
              "  <div id=\"df-e8657b17-29a0-451c-8f05-cc42593d120c\">\n",
              "    <div class=\"colab-df-container\">\n",
              "      <div>\n",
              "<style scoped>\n",
              "    .dataframe tbody tr th:only-of-type {\n",
              "        vertical-align: middle;\n",
              "    }\n",
              "\n",
              "    .dataframe tbody tr th {\n",
              "        vertical-align: top;\n",
              "    }\n",
              "\n",
              "    .dataframe thead th {\n",
              "        text-align: right;\n",
              "    }\n",
              "</style>\n",
              "<table border=\"1\" class=\"dataframe\">\n",
              "  <thead>\n",
              "    <tr style=\"text-align: right;\">\n",
              "      <th></th>\n",
              "      <th>Timestamp</th>\n",
              "      <th>Age</th>\n",
              "      <th>Gender</th>\n",
              "      <th>Country</th>\n",
              "      <th>state</th>\n",
              "      <th>self_employed</th>\n",
              "      <th>family_history</th>\n",
              "      <th>treatment</th>\n",
              "      <th>work_interfere</th>\n",
              "      <th>no_employees</th>\n",
              "      <th>remote_work</th>\n",
              "      <th>tech_company</th>\n",
              "      <th>benefits</th>\n",
              "      <th>care_options</th>\n",
              "      <th>wellness_program</th>\n",
              "      <th>seek_help</th>\n",
              "      <th>anonymity</th>\n",
              "      <th>leave</th>\n",
              "      <th>mental_health_consequence</th>\n",
              "      <th>phys_health_consequence</th>\n",
              "      <th>coworkers</th>\n",
              "      <th>supervisor</th>\n",
              "      <th>mental_health_interview</th>\n",
              "      <th>phys_health_interview</th>\n",
              "      <th>mental_vs_physical</th>\n",
              "      <th>obs_consequence</th>\n",
              "      <th>comments</th>\n",
              "    </tr>\n",
              "  </thead>\n",
              "  <tbody>\n",
              "    <tr>\n",
              "      <th>0</th>\n",
              "      <td>2014-08-27 11:29</td>\n",
              "      <td>37</td>\n",
              "      <td>Female</td>\n",
              "      <td>United States</td>\n",
              "      <td>IL</td>\n",
              "      <td>NaN</td>\n",
              "      <td>No</td>\n",
              "      <td>Yes</td>\n",
              "      <td>Often</td>\n",
              "      <td>25-Jun</td>\n",
              "      <td>No</td>\n",
              "      <td>Yes</td>\n",
              "      <td>Yes</td>\n",
              "      <td>Not sure</td>\n",
              "      <td>No</td>\n",
              "      <td>Yes</td>\n",
              "      <td>Yes</td>\n",
              "      <td>Somewhat easy</td>\n",
              "      <td>No</td>\n",
              "      <td>No</td>\n",
              "      <td>Some of them</td>\n",
              "      <td>Yes</td>\n",
              "      <td>No</td>\n",
              "      <td>Maybe</td>\n",
              "      <td>Yes</td>\n",
              "      <td>No</td>\n",
              "      <td>NaN</td>\n",
              "    </tr>\n",
              "    <tr>\n",
              "      <th>1</th>\n",
              "      <td>2014-08-27 11:29</td>\n",
              "      <td>44</td>\n",
              "      <td>M</td>\n",
              "      <td>United States</td>\n",
              "      <td>IN</td>\n",
              "      <td>NaN</td>\n",
              "      <td>No</td>\n",
              "      <td>No</td>\n",
              "      <td>Rarely</td>\n",
              "      <td>More than 1000</td>\n",
              "      <td>No</td>\n",
              "      <td>No</td>\n",
              "      <td>Don't know</td>\n",
              "      <td>No</td>\n",
              "      <td>Don't know</td>\n",
              "      <td>Don't know</td>\n",
              "      <td>Don't know</td>\n",
              "      <td>Don't know</td>\n",
              "      <td>Maybe</td>\n",
              "      <td>No</td>\n",
              "      <td>No</td>\n",
              "      <td>No</td>\n",
              "      <td>No</td>\n",
              "      <td>No</td>\n",
              "      <td>Don't know</td>\n",
              "      <td>No</td>\n",
              "      <td>NaN</td>\n",
              "    </tr>\n",
              "    <tr>\n",
              "      <th>2</th>\n",
              "      <td>2014-08-27 11:29</td>\n",
              "      <td>32</td>\n",
              "      <td>Male</td>\n",
              "      <td>Canada</td>\n",
              "      <td>NaN</td>\n",
              "      <td>NaN</td>\n",
              "      <td>No</td>\n",
              "      <td>No</td>\n",
              "      <td>Rarely</td>\n",
              "      <td>25-Jun</td>\n",
              "      <td>No</td>\n",
              "      <td>Yes</td>\n",
              "      <td>No</td>\n",
              "      <td>No</td>\n",
              "      <td>No</td>\n",
              "      <td>No</td>\n",
              "      <td>Don't know</td>\n",
              "      <td>Somewhat difficult</td>\n",
              "      <td>No</td>\n",
              "      <td>No</td>\n",
              "      <td>Yes</td>\n",
              "      <td>Yes</td>\n",
              "      <td>Yes</td>\n",
              "      <td>Yes</td>\n",
              "      <td>No</td>\n",
              "      <td>No</td>\n",
              "      <td>NaN</td>\n",
              "    </tr>\n",
              "    <tr>\n",
              "      <th>3</th>\n",
              "      <td>2014-08-27 11:29</td>\n",
              "      <td>31</td>\n",
              "      <td>Male</td>\n",
              "      <td>United Kingdom</td>\n",
              "      <td>NaN</td>\n",
              "      <td>NaN</td>\n",
              "      <td>Yes</td>\n",
              "      <td>Yes</td>\n",
              "      <td>Often</td>\n",
              "      <td>26-100</td>\n",
              "      <td>No</td>\n",
              "      <td>Yes</td>\n",
              "      <td>No</td>\n",
              "      <td>Yes</td>\n",
              "      <td>No</td>\n",
              "      <td>No</td>\n",
              "      <td>No</td>\n",
              "      <td>Somewhat difficult</td>\n",
              "      <td>Yes</td>\n",
              "      <td>Yes</td>\n",
              "      <td>Some of them</td>\n",
              "      <td>No</td>\n",
              "      <td>Maybe</td>\n",
              "      <td>Maybe</td>\n",
              "      <td>No</td>\n",
              "      <td>Yes</td>\n",
              "      <td>NaN</td>\n",
              "    </tr>\n",
              "    <tr>\n",
              "      <th>4</th>\n",
              "      <td>2014-08-27 11:30</td>\n",
              "      <td>31</td>\n",
              "      <td>Male</td>\n",
              "      <td>United States</td>\n",
              "      <td>TX</td>\n",
              "      <td>NaN</td>\n",
              "      <td>No</td>\n",
              "      <td>No</td>\n",
              "      <td>Never</td>\n",
              "      <td>100-500</td>\n",
              "      <td>Yes</td>\n",
              "      <td>Yes</td>\n",
              "      <td>Yes</td>\n",
              "      <td>No</td>\n",
              "      <td>Don't know</td>\n",
              "      <td>Don't know</td>\n",
              "      <td>Don't know</td>\n",
              "      <td>Don't know</td>\n",
              "      <td>No</td>\n",
              "      <td>No</td>\n",
              "      <td>Some of them</td>\n",
              "      <td>Yes</td>\n",
              "      <td>Yes</td>\n",
              "      <td>Yes</td>\n",
              "      <td>Don't know</td>\n",
              "      <td>No</td>\n",
              "      <td>NaN</td>\n",
              "    </tr>\n",
              "  </tbody>\n",
              "</table>\n",
              "</div>\n",
              "      <button class=\"colab-df-convert\" onclick=\"convertToInteractive('df-e8657b17-29a0-451c-8f05-cc42593d120c')\"\n",
              "              title=\"Convert this dataframe to an interactive table.\"\n",
              "              style=\"display:none;\">\n",
              "        \n",
              "  <svg xmlns=\"http://www.w3.org/2000/svg\" height=\"24px\"viewBox=\"0 0 24 24\"\n",
              "       width=\"24px\">\n",
              "    <path d=\"M0 0h24v24H0V0z\" fill=\"none\"/>\n",
              "    <path d=\"M18.56 5.44l.94 2.06.94-2.06 2.06-.94-2.06-.94-.94-2.06-.94 2.06-2.06.94zm-11 1L8.5 8.5l.94-2.06 2.06-.94-2.06-.94L8.5 2.5l-.94 2.06-2.06.94zm10 10l.94 2.06.94-2.06 2.06-.94-2.06-.94-.94-2.06-.94 2.06-2.06.94z\"/><path d=\"M17.41 7.96l-1.37-1.37c-.4-.4-.92-.59-1.43-.59-.52 0-1.04.2-1.43.59L10.3 9.45l-7.72 7.72c-.78.78-.78 2.05 0 2.83L4 21.41c.39.39.9.59 1.41.59.51 0 1.02-.2 1.41-.59l7.78-7.78 2.81-2.81c.8-.78.8-2.07 0-2.86zM5.41 20L4 18.59l7.72-7.72 1.47 1.35L5.41 20z\"/>\n",
              "  </svg>\n",
              "      </button>\n",
              "      \n",
              "  <style>\n",
              "    .colab-df-container {\n",
              "      display:flex;\n",
              "      flex-wrap:wrap;\n",
              "      gap: 12px;\n",
              "    }\n",
              "\n",
              "    .colab-df-convert {\n",
              "      background-color: #E8F0FE;\n",
              "      border: none;\n",
              "      border-radius: 50%;\n",
              "      cursor: pointer;\n",
              "      display: none;\n",
              "      fill: #1967D2;\n",
              "      height: 32px;\n",
              "      padding: 0 0 0 0;\n",
              "      width: 32px;\n",
              "    }\n",
              "\n",
              "    .colab-df-convert:hover {\n",
              "      background-color: #E2EBFA;\n",
              "      box-shadow: 0px 1px 2px rgba(60, 64, 67, 0.3), 0px 1px 3px 1px rgba(60, 64, 67, 0.15);\n",
              "      fill: #174EA6;\n",
              "    }\n",
              "\n",
              "    [theme=dark] .colab-df-convert {\n",
              "      background-color: #3B4455;\n",
              "      fill: #D2E3FC;\n",
              "    }\n",
              "\n",
              "    [theme=dark] .colab-df-convert:hover {\n",
              "      background-color: #434B5C;\n",
              "      box-shadow: 0px 1px 3px 1px rgba(0, 0, 0, 0.15);\n",
              "      filter: drop-shadow(0px 1px 2px rgba(0, 0, 0, 0.3));\n",
              "      fill: #FFFFFF;\n",
              "    }\n",
              "  </style>\n",
              "\n",
              "      <script>\n",
              "        const buttonEl =\n",
              "          document.querySelector('#df-e8657b17-29a0-451c-8f05-cc42593d120c button.colab-df-convert');\n",
              "        buttonEl.style.display =\n",
              "          google.colab.kernel.accessAllowed ? 'block' : 'none';\n",
              "\n",
              "        async function convertToInteractive(key) {\n",
              "          const element = document.querySelector('#df-e8657b17-29a0-451c-8f05-cc42593d120c');\n",
              "          const dataTable =\n",
              "            await google.colab.kernel.invokeFunction('convertToInteractive',\n",
              "                                                     [key], {});\n",
              "          if (!dataTable) return;\n",
              "\n",
              "          const docLinkHtml = 'Like what you see? Visit the ' +\n",
              "            '<a target=\"_blank\" href=https://colab.research.google.com/notebooks/data_table.ipynb>data table notebook</a>'\n",
              "            + ' to learn more about interactive tables.';\n",
              "          element.innerHTML = '';\n",
              "          dataTable['output_type'] = 'display_data';\n",
              "          await google.colab.output.renderOutput(dataTable, element);\n",
              "          const docLink = document.createElement('div');\n",
              "          docLink.innerHTML = docLinkHtml;\n",
              "          element.appendChild(docLink);\n",
              "        }\n",
              "      </script>\n",
              "    </div>\n",
              "  </div>\n",
              "  "
            ],
            "text/plain": [
              "          Timestamp  Age  Gender  ... mental_vs_physical obs_consequence comments\n",
              "0  2014-08-27 11:29   37  Female  ...                Yes              No      NaN\n",
              "1  2014-08-27 11:29   44       M  ...         Don't know              No      NaN\n",
              "2  2014-08-27 11:29   32    Male  ...                 No              No      NaN\n",
              "3  2014-08-27 11:29   31    Male  ...                 No             Yes      NaN\n",
              "4  2014-08-27 11:30   31    Male  ...         Don't know              No      NaN\n",
              "\n",
              "[5 rows x 27 columns]"
            ]
          },
          "metadata": {},
          "execution_count": 17
        }
      ]
    },
    {
      "cell_type": "code",
      "source": [
        "print(\"Different age groups: \\n\")\n",
        "print(df['Age'].unique())\n",
        "print(\"\\n \\n \\n\")\n",
        "print(\"Different gender notations are: \\n\")\n",
        "print(df['Gender'].unique())"
      ],
      "metadata": {
        "id": "8Lgpt0mN8dkU",
        "colab": {
          "base_uri": "https://localhost:8080/"
        },
        "outputId": "7c01433c-ec91-47f0-8858-6f9d576302ce"
      },
      "execution_count": null,
      "outputs": [
        {
          "output_type": "stream",
          "name": "stdout",
          "text": [
            "Different age groups: \n",
            "\n",
            "[         37          44          32          31          33          35\n",
            "          39          42          23          29          36          27\n",
            "          46          41          34          30          40          38\n",
            "          50          24          18          28          26          22\n",
            "          19          25          45          21         -29          43\n",
            "          56          60          54         329          55 99999999999\n",
            "          48          20          57          58          47          62\n",
            "          51          65          49       -1726           5          53\n",
            "          61           8          11          -1          72]\n",
            "\n",
            " \n",
            " \n",
            "\n",
            "Different gender notations are: \n",
            "\n",
            "['Female' 'M' 'Male' 'male' 'female' 'm' 'Male-ish' 'maile' 'Trans-female'\n",
            " 'Cis Female' 'F' 'something kinda male?' 'Cis Male' 'Woman' 'f' 'Mal'\n",
            " 'Male (CIS)' 'queer/she/they' 'non-binary' 'Femake' 'woman' 'Make' 'Nah'\n",
            " 'All' 'Enby' 'fluid' 'Genderqueer' 'Female ' 'Androgyne' 'Agender'\n",
            " 'cis-female/femme' 'Guy (-ish) ^_^' 'male leaning androgynous' 'Male '\n",
            " 'Man' 'Trans woman' 'msle' 'Neuter' 'Female (trans)' 'queer'\n",
            " 'Female (cis)' 'Mail' 'cis male' 'A little about you' 'Malr' 'p' 'femail'\n",
            " 'Cis Man' 'ostensibly male, unsure what that really means']\n"
          ]
        }
      ]
    },
    {
      "cell_type": "code",
      "source": [
        "# Fixing the Age and Gender columns\n",
        "df.drop(df[df['Age'] > 100].index, inplace = True)\n",
        "df.drop(df[df['Age'] < 15].index, inplace = True)\n",
        "\n",
        "df['Gender'].replace(['Male ', 'male', 'Man', 'cis male','Male', 'Cis Male',\n",
        "                      'M', 'm', 'Mail', 'Malr', 'Mal', 'Male (CIS)',\n",
        "                      'Cis Man', 'msle', 'Male-ish', 'maile', 'Make',], 'Male', inplace = True)\n",
        "\n",
        "df['Gender'].replace(['Female ', 'female', 'femail', 'Cis Female', 'Woman', 'Female',\n",
        "                     'F', 'f', 'cis-female/femme', 'Femake', 'Female (cis)',\n",
        "                     'woman',], 'Female', inplace = True)\n",
        "\n",
        "df['Gender'].replace( ['Female (trans)', 'fluid', 'queer', 'non-binary',\n",
        "                      'queer/she/they','Androgyne', 'Trans-female', 'male leaning androgynous',\n",
        "                     'ostensibly male, unsure what that really means',\n",
        "                      'Agender', 'A little about you', 'Nah', 'All',\n",
        "                      'Guy (-ish) ^_^', 'Trans woman',\n",
        "                      'Genderqueer', 'Enby', 'p', 'Neuter', 'something kinda male?', ],'Other',inplace = True)"
      ],
      "metadata": {
        "id": "9nr8UDQcw8YL"
      },
      "execution_count": null,
      "outputs": []
    },
    {
      "cell_type": "code",
      "source": [
        "df.drop(['Timestamp', 'Age', 'Gender', 'Country', 'state', 'self_employed',\n",
        "        'no_employees', 'seek_help', 'care_options',\n",
        "        'tech_company',  'leave', 'phys_health_consequence', 'coworkers',\n",
        "        'mental_health_interview', 'phys_health_interview',\n",
        "       'mental_vs_physical', 'comments'],axis = 1, inplace = True)"
      ],
      "metadata": {
        "id": "fp5ch_J2hTxS"
      },
      "execution_count": null,
      "outputs": []
    },
    {
      "cell_type": "code",
      "source": [
        "df.columns"
      ],
      "metadata": {
        "colab": {
          "base_uri": "https://localhost:8080/"
        },
        "id": "XkgN2JzGiFD_",
        "outputId": "1fb0a1c4-8d0d-480c-f676-7790c5adf39b"
      },
      "execution_count": null,
      "outputs": [
        {
          "output_type": "execute_result",
          "data": {
            "text/plain": [
              "Index(['family_history', 'treatment', 'work_interfere', 'remote_work',\n",
              "       'benefits', 'wellness_program', 'anonymity',\n",
              "       'mental_health_consequence', 'supervisor', 'obs_consequence'],\n",
              "      dtype='object')"
            ]
          },
          "metadata": {},
          "execution_count": 21
        }
      ]
    },
    {
      "cell_type": "code",
      "source": [
        "# dropping the null values\n",
        "df.dropna(inplace = True)"
      ],
      "metadata": {
        "id": "0g8qtTuG2sns"
      },
      "execution_count": null,
      "outputs": []
    },
    {
      "cell_type": "code",
      "source": [
        "# Creating a dataframe copy for binning\n",
        "df_bin = df.copy(deep=True)\n",
        "df_bin.loc[df_bin['work_interfere'] == \"Often\", 'work_interfere'] = \"Yes\"\n",
        "df_bin.loc[df_bin['work_interfere'] == \"Sometimes\", 'work_interfere'] = \"Yes\"\n",
        "df_bin.loc[df_bin['work_interfere'] == \"Rarely\", 'work_interfere'] = \"No\"\n",
        "df_bin.loc[df_bin['work_interfere'] == \"Never\", 'work_interfere'] = \"No\""
      ],
      "metadata": {
        "id": "L5fagF8NM-C9"
      },
      "execution_count": null,
      "outputs": []
    },
    {
      "cell_type": "code",
      "source": [
        "df_bin.dropna(inplace = True)"
      ],
      "metadata": {
        "id": "1YAm-QHahj7r"
      },
      "execution_count": null,
      "outputs": []
    },
    {
      "cell_type": "code",
      "source": [
        "# Splitting the dataset before processing to follow The Golden Rule\n",
        "train_df, test_df = train_test_split(df, test_size=0.25, random_state=130)\n",
        "X_train = train_df.drop(columns=[\"work_interfere\"])\n",
        "y_train = train_df[\"work_interfere\"]\n",
        "X_test = test_df.drop(columns=[\"work_interfere\"])\n",
        "y_test = test_df[\"work_interfere\"]"
      ],
      "metadata": {
        "id": "OEfV-Hla2vWK"
      },
      "execution_count": null,
      "outputs": []
    },
    {
      "cell_type": "code",
      "source": [
        "# Splitting for the binned dataset\n",
        "train_df_bin, test_df_bin = train_test_split(df_bin, test_size=0.25, random_state=77)\n",
        "X_train_bin = train_df_bin.drop(columns=[\"work_interfere\"])\n",
        "y_train_bin = train_df_bin[\"work_interfere\"]\n",
        "X_test_bin = test_df_bin.drop(columns=[\"work_interfere\"])\n",
        "y_test_bin = test_df_bin[\"work_interfere\"]"
      ],
      "metadata": {
        "id": "sI7F06r3NJJM"
      },
      "execution_count": null,
      "outputs": []
    },
    {
      "cell_type": "code",
      "source": [
        "# creating the column tansformer\n",
        "categorical_features = X_train.select_dtypes('object').columns"
      ],
      "metadata": {
        "id": "V7BKvX7S23cY"
      },
      "execution_count": null,
      "outputs": []
    },
    {
      "cell_type": "code",
      "source": [
        "categorical_transformer = Pipeline(\n",
        "    steps=[(\"imputer\", SimpleImputer(strategy=\"constant\",fill_value=\"missing\")),\n",
        "           (\"onehot\", OneHotEncoder(sparse=False, handle_unknown='ignore'))]\n",
        ")"
      ],
      "metadata": {
        "id": "d5wuamF626PG"
      },
      "execution_count": null,
      "outputs": []
    },
    {
      "cell_type": "code",
      "source": [
        "col_transformer = ColumnTransformer(\n",
        "    transformers=[\n",
        "        (\"categorical\", categorical_transformer, categorical_features)\n",
        "    ],\n",
        "    remainder='passthrough'\n",
        ")"
      ],
      "metadata": {
        "id": "Gp2jDw3Z3Gzi"
      },
      "execution_count": null,
      "outputs": []
    },
    {
      "cell_type": "code",
      "source": [
        "# Column Transformer for the binned dataset\n",
        "categorical_features_bin = X_train_bin.select_dtypes('object').columns\n",
        "\n",
        "categorical_transformer_bin = Pipeline(\n",
        "    steps=[(\"imputer\", SimpleImputer(strategy=\"constant\",fill_value=\"missing\")),\n",
        "           (\"onehot\", OneHotEncoder(sparse=False, handle_unknown='ignore'))]\n",
        ")\n",
        "\n",
        "col_transformer_bin = ColumnTransformer(\n",
        "    transformers=[\n",
        "        (\"categorical\", categorical_transformer_bin, categorical_features_bin)\n",
        "    ],\n",
        "    remainder='passthrough'\n",
        ")"
      ],
      "metadata": {
        "id": "sHvk82XENnlg"
      },
      "execution_count": null,
      "outputs": []
    },
    {
      "cell_type": "markdown",
      "source": [
        "#Building Model"
      ],
      "metadata": {
        "id": "2nbtIhO7_yUY"
      }
    },
    {
      "cell_type": "code",
      "source": [
        "\n",
        "# Create a dummy model for normal label and binary label\n",
        "\n",
        "dummy = DummyClassifier(strategy='most_frequent')\n",
        "dummy.fit(X_train, y_train)\n",
        "\n",
        "dummy_bin = DummyClassifier(strategy='most_frequent')\n",
        "dummy_bin.fit(X_train_bin, y_train_bin)\n",
        "\n",
        "print(\"Normal label score: \", dummy.score(X_test, y_test))\n",
        "print(\"Binary label score: \", dummy_bin.score(X_test_bin, y_test_bin))"
      ],
      "metadata": {
        "id": "_WuhDGNfD32c",
        "colab": {
          "base_uri": "https://localhost:8080/"
        },
        "outputId": "290c3095-136c-4d21-dfbd-26ae043c19d5"
      },
      "execution_count": null,
      "outputs": [
        {
          "output_type": "stream",
          "name": "stdout",
          "text": [
            "Normal label score:  0.4959677419354839\n",
            "Binary label score:  0.6129032258064516\n"
          ]
        }
      ]
    },
    {
      "cell_type": "code",
      "source": [
        "\n",
        "# Create pipelines for hyperparameter optimization\n",
        "\n",
        "## For normal labels\n",
        "pipe_sv = Pipeline(\n",
        "    steps=[('columntransformer', col_transformer),\n",
        "           ('svc', SVC())]\n",
        ")\n",
        "\n",
        "## For binary labels\n",
        "pipe_sv_bin = Pipeline(\n",
        "    steps=[('columntransformer', col_transformer_bin),\n",
        "           ('svc', SVC())]\n",
        ")\n",
        "\n",
        "pipe_dt_bin = Pipeline(\n",
        "    steps=[('columntransformer', col_transformer_bin),\n",
        "           ('dtc', DecisionTreeClassifier())]\n",
        ")"
      ],
      "metadata": {
        "id": "xUbPXEKIO0Af"
      },
      "execution_count": null,
      "outputs": []
    },
    {
      "cell_type": "markdown",
      "source": [
        "Models for Normal Labels"
      ],
      "metadata": {
        "id": "0m_xjQwW8JXN"
      }
    },
    {
      "cell_type": "code",
      "source": [
        "# Create an SVC model\n",
        "\n",
        "# set a param\n",
        "param = {'svc__gamma': [0.01, 0.1, 1, 10, 100, 1000], 'svc__C': [0.01, 0.1, 1, 10, 100, 1000]}\n",
        "\n",
        "# Set random_search\n",
        "# model should be changed to pipe\n",
        "sv_grid = GridSearchCV(pipe_sv, param, cv=10, n_jobs=-1, return_train_score=True)\n",
        "sv_grid.fit(X_train, y_train)\n",
        "\n",
        "sv_grid_result = pd.DataFrame(sv_grid.cv_results_)[[\"params\", \"mean_test_score\", \"mean_train_score\", \"rank_test_score\"]].sort_values(by='rank_test_score')\n",
        "\n",
        "# get best parameter\n",
        "svc_gamma = sv_grid.best_params_['svc__gamma']\n",
        "svc_C = sv_grid.best_params_['svc__C']\n",
        "\n",
        "# Create new pipeline with optimized hyperparameter\n",
        "svc = Pipeline(\n",
        "    steps=[('columntransformer', col_transformer),\n",
        "          ('svc', SVC(gamma=svc_gamma, C=svc_C))]\n",
        ")\n",
        "\n",
        "# # Train and test the model\n",
        "svc.fit(X_train, y_train)\n",
        "svc_testscore = svc.score(X_test, y_test)\n",
        "print('SVC test score: ', svc_testscore)"
      ],
      "metadata": {
        "id": "NhRpAT5mOsE7",
        "colab": {
          "base_uri": "https://localhost:8080/"
        },
        "outputId": "91e5d69d-35f0-4380-c1cc-716b3611744d"
      },
      "execution_count": null,
      "outputs": [
        {
          "output_type": "stream",
          "name": "stdout",
          "text": [
            "SVC test score:  0.5201612903225806\n"
          ]
        }
      ]
    },
    {
      "cell_type": "markdown",
      "source": [
        "Model for binary labels"
      ],
      "metadata": {
        "id": "aTfP-mlkAGHb"
      }
    },
    {
      "cell_type": "code",
      "source": [
        "# Create a decision tree classifier\n",
        "\n",
        "# Set param_grid\n",
        "param_grid = {'dtc__min_samples_split': list(range(10, 101))}\n",
        "\n",
        "# Do gridsearchCV\n",
        "dt_grid_bin = GridSearchCV(pipe_dt_bin, param_grid, cv=10, n_jobs=-1, return_train_score=True)\n",
        "dt_grid_bin.fit(X_train_bin, y_train_bin)\n",
        "\n",
        "dt_grid_bin_result = pd.DataFrame(dt_grid_bin.cv_results_)[[\"params\", \"mean_test_score\", \"mean_train_score\", \"rank_test_score\"]].sort_values(by='rank_test_score')\n",
        "#dt_grid_result\n",
        "\n",
        "# get best parameter\n",
        "hp_min_split_bin = dt_grid_bin.best_params_['dtc__min_samples_split']\n",
        "#hp_min_split\n",
        "\n",
        "# Create new pipeline with optimized hyperparameter\n",
        "dec_tree_bin = Pipeline(\n",
        "    steps=[('columntransformer', col_transformer_bin),\n",
        "           ('dtc', DecisionTreeClassifier(min_samples_split=hp_min_split_bin))]\n",
        ")\n",
        "\n",
        "# # Train and test the model\n",
        "dec_tree_bin.fit(X_train_bin, y_train_bin)\n",
        "dec_tree_bin_testscore = dec_tree_bin.score(X_test_bin, y_test_bin)\n",
        "print('Dec tree test score: ', dec_tree_bin_testscore)"
      ],
      "metadata": {
        "id": "LJTCI1mg2LdA",
        "colab": {
          "base_uri": "https://localhost:8080/"
        },
        "outputId": "5fad2df2-8a84-4a88-875c-523a2ff0c2a9"
      },
      "execution_count": null,
      "outputs": [
        {
          "output_type": "stream",
          "name": "stdout",
          "text": [
            "Dec tree test score:  0.7096774193548387\n"
          ]
        }
      ]
    },
    {
      "cell_type": "code",
      "source": [
        "# Create an SVC model\n",
        "\n",
        "# set a param\n",
        "param = {'svc__gamma': [0.01, 0.1, 1, 10, 100, 1000], 'svc__C': [0.01, 0.1, 1, 10, 100, 1000]}\n",
        "\n",
        "# Set random_search\n",
        "# model should be changed to pipe\n",
        "sv_grid_bin = GridSearchCV(pipe_sv_bin, param, cv=10, n_jobs=-1, return_train_score=True)\n",
        "sv_grid_bin.fit(X_train_bin, y_train_bin)\n",
        "\n",
        "sv_grid_bin_result = pd.DataFrame(sv_grid_bin.cv_results_)[[\"params\", \"mean_test_score\", \"mean_train_score\", \"rank_test_score\"]].sort_values(by='rank_test_score')\n",
        "\n",
        "# get best parameter\n",
        "svc_gamma_bin = sv_grid_bin.best_params_['svc__gamma']\n",
        "svc_C_bin = sv_grid_bin.best_params_['svc__C']\n",
        "\n",
        "# Create new pipeline with optimized hyperparameter\n",
        "svc_bin = Pipeline(\n",
        "    steps=[('columntransformer', col_transformer_bin),\n",
        "           ('svc', SVC(gamma=svc_gamma_bin, C=svc_C_bin))]\n",
        ")\n",
        "\n",
        "# # Train and test the model\n",
        "svc_bin.fit(X_train_bin, y_train_bin)\n",
        "svc_bin_testscore = svc_bin.score(X_test_bin, y_test_bin)\n",
        "print('SVC test score: ', svc_bin_testscore)"
      ],
      "metadata": {
        "id": "MMmj0HeyBDAB",
        "colab": {
          "base_uri": "https://localhost:8080/"
        },
        "outputId": "af269826-2f75-4119-8b28-314728c605f5"
      },
      "execution_count": null,
      "outputs": [
        {
          "output_type": "stream",
          "name": "stdout",
          "text": [
            "SVC test score:  0.7096774193548387\n"
          ]
        }
      ]
    },
    {
      "cell_type": "markdown",
      "source": [
        "## Model Evaluation (test score, f1, recall, precision, etc.) "
      ],
      "metadata": {
        "id": "No2OC3DyJnn-"
      }
    },
    {
      "cell_type": "markdown",
      "source": [
        "### Model Evaluation : SVC"
      ],
      "metadata": {
        "id": "i_5JS-KhL-XO"
      }
    },
    {
      "cell_type": "code",
      "source": [
        "# confusion matrix to visualize the performance of the algorithm.\n",
        "predictions_svc = svc.predict(X_test)\n",
        "cm_svc = confusion_matrix(y_test, predictions_svc)\n",
        "cm_svc"
      ],
      "metadata": {
        "id": "3IW9s6myME16",
        "colab": {
          "base_uri": "https://localhost:8080/"
        },
        "outputId": "6745256c-1311-4002-82cb-1c32244a781d"
      },
      "execution_count": null,
      "outputs": [
        {
          "output_type": "execute_result",
          "data": {
            "text/plain": [
              "array([[38,  0,  0,  6],\n",
              "       [ 4,  0,  0, 34],\n",
              "       [12,  0,  0, 31],\n",
              "       [32,  0,  0, 91]])"
            ]
          },
          "metadata": {},
          "execution_count": 37
        }
      ]
    },
    {
      "cell_type": "code",
      "source": [
        "#predictions_svc "
      ],
      "metadata": {
        "id": "nIdarOlMhuyc"
      },
      "execution_count": null,
      "outputs": []
    },
    {
      "cell_type": "code",
      "source": [
        "# Confusion Matrix plot \n",
        "\n",
        "plt.rc('font', size=12) # bigger font sizes\n",
        "ConfusionMatrixDisplay(cm_svc, display_labels=[\"Never\",\"Rarely\",\"Often\",\"Sometimes\"]).plot()"
      ],
      "metadata": {
        "id": "tsH1hxgckObk",
        "colab": {
          "base_uri": "https://localhost:8080/",
          "height": 303
        },
        "outputId": "2ff2bd7b-6f7f-4c58-a9ec-5847a75a8a67"
      },
      "execution_count": null,
      "outputs": [
        {
          "output_type": "execute_result",
          "data": {
            "text/plain": [
              "<sklearn.metrics._plot.confusion_matrix.ConfusionMatrixDisplay at 0x7f997cf7c690>"
            ]
          },
          "metadata": {},
          "execution_count": 39
        },
        {
          "output_type": "display_data",
          "data": {
            "image/png": "[encoded data removed]",
            "text/plain": [
              "<Figure size 432x288 with 2 Axes>"
            ]
          },
          "metadata": {
            "needs_background": "light"
          }
        }
      ]
    },
    {
      "cell_type": "code",
      "source": [
        "# Classification Report  \n",
        "print(classification_report(\n",
        "        y_test,\n",
        "        svc.predict(X_test),digits=4,\n",
        "        target_names=[\"Never\", \"Rarely\", \"Often\",\"Sometimes\"]))"
      ],
      "metadata": {
        "colab": {
          "base_uri": "https://localhost:8080/"
        },
        "id": "oc6ez_NGg06e",
        "outputId": "c738b51c-2486-422b-f72a-30aee0dd800a"
      },
      "execution_count": null,
      "outputs": [
        {
          "output_type": "stream",
          "name": "stdout",
          "text": [
            "              precision    recall  f1-score   support\n",
            "\n",
            "       Never     0.4419    0.8636    0.5846        44\n",
            "      Rarely     0.0000    0.0000    0.0000        38\n",
            "       Often     0.0000    0.0000    0.0000        43\n",
            "   Sometimes     0.5617    0.7398    0.6386       123\n",
            "\n",
            "    accuracy                         0.5202       248\n",
            "   macro avg     0.2509    0.4009    0.3058       248\n",
            "weighted avg     0.3570    0.5202    0.4204       248\n",
            "\n"
          ]
        },
        {
          "output_type": "stream",
          "name": "stderr",
          "text": [
            "/usr/local/lib/python3.7/dist-packages/sklearn/metrics/_classification.py:1318: UndefinedMetricWarning: Precision and F-score are ill-defined and being set to 0.0 in labels with no predicted samples. Use `zero_division` parameter to control this behavior.\n",
            "  _warn_prf(average, modifier, msg_start, len(result))\n",
            "/usr/local/lib/python3.7/dist-packages/sklearn/metrics/_classification.py:1318: UndefinedMetricWarning: Precision and F-score are ill-defined and being set to 0.0 in labels with no predicted samples. Use `zero_division` parameter to control this behavior.\n",
            "  _warn_prf(average, modifier, msg_start, len(result))\n",
            "/usr/local/lib/python3.7/dist-packages/sklearn/metrics/_classification.py:1318: UndefinedMetricWarning: Precision and F-score are ill-defined and being set to 0.0 in labels with no predicted samples. Use `zero_division` parameter to control this behavior.\n",
            "  _warn_prf(average, modifier, msg_start, len(result))\n"
          ]
        }
      ]
    },
    {
      "cell_type": "code",
      "source": [
        "# Check for classification balance\n",
        "y_train.value_counts('work_interfere')"
      ],
      "metadata": {
        "colab": {
          "base_uri": "https://localhost:8080/"
        },
        "id": "Ci9hpCQHll6Z",
        "outputId": "eebe31d9-0a94-46fe-fcea-55423fd12f8d"
      },
      "execution_count": null,
      "outputs": [
        {
          "output_type": "execute_result",
          "data": {
            "text/plain": [
              "Sometimes    0.460189\n",
              "Never        0.226721\n",
              "Rarely       0.175439\n",
              "Often        0.137652\n",
              "Name: work_interfere, dtype: float64"
            ]
          },
          "metadata": {},
          "execution_count": 41
        }
      ]
    },
    {
      "cell_type": "markdown",
      "source": [
        "### Model Evaluation : Dec Tree Bin"
      ],
      "metadata": {
        "id": "FL2UrAo0J1uA"
      }
    },
    {
      "cell_type": "code",
      "source": [
        "# confusion matrix to visualize the performance of the algorithm.\n",
        "predictions_dt = dec_tree_bin.predict(X_test_bin)\n",
        "cm_dt = confusion_matrix(y_test_bin, predictions_dt)\n",
        "cm_dt"
      ],
      "metadata": {
        "colab": {
          "base_uri": "https://localhost:8080/"
        },
        "id": "VrrVgcO8J_HB",
        "outputId": "14e900b6-e721-4e79-892b-bf913478db22"
      },
      "execution_count": null,
      "outputs": [
        {
          "output_type": "execute_result",
          "data": {
            "text/plain": [
              "array([[ 46,  50],\n",
              "       [ 22, 130]])"
            ]
          },
          "metadata": {},
          "execution_count": 42
        }
      ]
    },
    {
      "cell_type": "code",
      "source": [
        "# Confusion Matrix plot \n",
        "\n",
        "plt.rc('font', size=12) # bigger font sizes\n",
        "ConfusionMatrixDisplay(cm_dt, display_labels=[\"No\", \"Yes\"]).plot()"
      ],
      "metadata": {
        "colab": {
          "base_uri": "https://localhost:8080/",
          "height": 303
        },
        "id": "DNbNO84yK-qJ",
        "outputId": "525006a8-1cd5-44e3-d548-095315c63db9"
      },
      "execution_count": null,
      "outputs": [
        {
          "output_type": "execute_result",
          "data": {
            "text/plain": [
              "<sklearn.metrics._plot.confusion_matrix.ConfusionMatrixDisplay at 0x7f997c9bd350>"
            ]
          },
          "metadata": {},
          "execution_count": 43
        },
        {
          "output_type": "display_data",
          "data": {
            "image/png": "[encoded data removed]",
            "text/plain": [
              "<Figure size 432x288 with 2 Axes>"
            ]
          },
          "metadata": {
            "needs_background": "light"
          }
        }
      ]
    },
    {
      "cell_type": "code",
      "source": [
        "# Classification Report  - Dec Tree Model\n",
        "print(classification_report(\n",
        "        y_test_bin,\n",
        "        dec_tree_bin.predict(X_test_bin),digits=4,\n",
        "        target_names=[\"No\", \"Yes\"]))"
      ],
      "metadata": {
        "colab": {
          "base_uri": "https://localhost:8080/"
        },
        "id": "60qfGyjjLaf5",
        "outputId": "cb663896-7346-4fae-8c3f-e01cff637ba0"
      },
      "execution_count": null,
      "outputs": [
        {
          "output_type": "stream",
          "name": "stdout",
          "text": [
            "              precision    recall  f1-score   support\n",
            "\n",
            "          No     0.6765    0.4792    0.5610        96\n",
            "         Yes     0.7222    0.8553    0.7831       152\n",
            "\n",
            "    accuracy                         0.7097       248\n",
            "   macro avg     0.6993    0.6672    0.6721       248\n",
            "weighted avg     0.7045    0.7097    0.6971       248\n",
            "\n"
          ]
        }
      ]
    },
    {
      "cell_type": "markdown",
      "source": [
        "### Model Evaluation : SVC_bin"
      ],
      "metadata": {
        "id": "1XdO5AM-Jntm"
      }
    },
    {
      "cell_type": "code",
      "source": [
        "# confusion matrix on SVC_bin to visualize the performance of the algorithm.svc_bin.fit(X_train_bin, y_train_bin)\n",
        "predictions = svc_bin.predict(X_test_bin)\n",
        "cm = confusion_matrix(y_test_bin, predictions)\n",
        "cm"
      ],
      "metadata": {
        "colab": {
          "base_uri": "https://localhost:8080/"
        },
        "id": "22vuWbUALix6",
        "outputId": "b149a4b0-5cdb-4b90-b582-e2b33cddf87b"
      },
      "execution_count": null,
      "outputs": [
        {
          "output_type": "execute_result",
          "data": {
            "text/plain": [
              "array([[ 46,  50],\n",
              "       [ 22, 130]])"
            ]
          },
          "metadata": {},
          "execution_count": 45
        }
      ]
    },
    {
      "cell_type": "code",
      "source": [
        "# Confusion Matrix plot SVC_bin\n",
        "\n",
        "plt.rc('font', size=12) # bigger font sizes\n",
        "ConfusionMatrixDisplay(cm, display_labels=[\"No\", \"Yes\"]).plot()"
      ],
      "metadata": {
        "colab": {
          "base_uri": "https://localhost:8080/",
          "height": 303
        },
        "id": "QHNpx37hMlgI",
        "outputId": "1321e344-1091-4f59-afb1-1d9a0f3da4a3"
      },
      "execution_count": null,
      "outputs": [
        {
          "output_type": "execute_result",
          "data": {
            "text/plain": [
              "<sklearn.metrics._plot.confusion_matrix.ConfusionMatrixDisplay at 0x7f997c940250>"
            ]
          },
          "metadata": {},
          "execution_count": 46
        },
        {
          "output_type": "display_data",
          "data": {
            "image/png": "[encoded data removed]",
            "text/plain": [
              "<Figure size 432x288 with 2 Axes>"
            ]
          },
          "metadata": {
            "needs_background": "light"
          }
        }
      ]
    },
    {
      "cell_type": "code",
      "source": [
        "# Classification Report  - SVC_bin Model\n",
        "print(classification_report(\n",
        "        y_test_bin,\n",
        "        svc_bin.predict(X_test_bin),digits=4,\n",
        "        target_names=[\"No\", \"Yes\"]))"
      ],
      "metadata": {
        "colab": {
          "base_uri": "https://localhost:8080/"
        },
        "id": "ACeTO9rRNL-X",
        "outputId": "7a606237-a682-4040-849e-7ab4835eba5b"
      },
      "execution_count": null,
      "outputs": [
        {
          "output_type": "stream",
          "name": "stdout",
          "text": [
            "              precision    recall  f1-score   support\n",
            "\n",
            "          No     0.6765    0.4792    0.5610        96\n",
            "         Yes     0.7222    0.8553    0.7831       152\n",
            "\n",
            "    accuracy                         0.7097       248\n",
            "   macro avg     0.6993    0.6672    0.6721       248\n",
            "weighted avg     0.7045    0.7097    0.6971       248\n",
            "\n"
          ]
        }
      ]
    },
    {
      "cell_type": "code",
      "source": [
        "# Check for classification balance\n",
        "y_train_bin.value_counts('work_interfere')"
      ],
      "metadata": {
        "id": "PqPnURFFNaDN",
        "colab": {
          "base_uri": "https://localhost:8080/"
        },
        "outputId": "4c15f2fc-7435-4e5d-a2b7-ebfaef228968"
      },
      "execution_count": null,
      "outputs": [
        {
          "output_type": "execute_result",
          "data": {
            "text/plain": [
              "Yes    0.609987\n",
              "No     0.390013\n",
              "Name: work_interfere, dtype: float64"
            ]
          },
          "metadata": {},
          "execution_count": 48
        }
      ]
    }
  ]
}